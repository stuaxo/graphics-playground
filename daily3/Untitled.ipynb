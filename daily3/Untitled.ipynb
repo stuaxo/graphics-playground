{
 "cells": [
  {
   "cell_type": "code",
   "execution_count": 3,
   "metadata": {
    "collapsed": false
   },
   "outputs": [
    {
     "name": "stdout",
     "output_type": "stream",
     "text": [
      "Loopback: PCM (hw:1,0)\n",
      "Loopback: PCM (hw:1,1)\n",
      "HDA Intel PCH: ALC663 Analog (hw:0,0)\n"
     ]
    }
   ],
   "source": [
    "import collections\n",
    "\n",
    "from pysoundcard import devices\n",
    "from fuzzywuzzy import fuzz\n",
    "\n",
    "def fuzzydevices(match='', min_ratio=30):\n",
    "    device_ratios = []\n",
    "    for device in devices():\n",
    "        ratio = fuzz.partial_ratio(match, device['name'])\n",
    "        if ratio > min_ratio:\n",
    "            device_ratios.append((ratio, device))\n",
    "\n",
    "    for ratio, device in sorted(device_ratios, key=lambda ratio_device: (-ratio_device[0])):\n",
    "        yield device\n",
    "\n",
    "def firstfuzzydevice(match=''):\n",
    "    devices = list(fuzzydevices(match, 0))\n",
    "    return devices[0]\n",
    "        \n",
    "        \n",
    "        \n",
    "for device in fuzzydevices('loop pc'):\n",
    "    print device['name']"
   ]
  },
  {
   "cell_type": "code",
   "execution_count": 4,
   "metadata": {
    "collapsed": false
   },
   "outputs": [
    {
     "data": {
      "text/plain": [
       "{'default_high_input_latency': 0.034829931972789115,\n",
       " 'default_high_output_latency': 0.034829931972789115,\n",
       " 'default_low_input_latency': 0.008707482993197279,\n",
       " 'default_low_output_latency': 0.008707482993197279,\n",
       " 'default_sample_rate': 44100.0,\n",
       " 'device_index': 2,\n",
       " 'host_api_index': 0,\n",
       " 'input_channels': 32,\n",
       " 'input_latency': 0.008707482993197279,\n",
       " 'interleaved_data': True,\n",
       " 'name': u'Loopback: PCM (hw:1,0)',\n",
       " 'output_channels': 32,\n",
       " 'output_latency': 0.008707482993197279,\n",
       " 'sample_format': numpy.float32,\n",
       " 'struct_version': 2}"
      ]
     },
     "execution_count": 4,
     "metadata": {},
     "output_type": "execute_result"
    }
   ],
   "source": [
    "firstfuzzydevice('loop')"
   ]
  },
  {
   "cell_type": "code",
   "execution_count": null,
   "metadata": {
    "collapsed": true
   },
   "outputs": [],
   "source": []
  }
 ],
 "metadata": {
  "kernelspec": {
   "display_name": "Python 2",
   "language": "python",
   "name": "python2"
  },
  "language_info": {
   "codemirror_mode": {
    "name": "ipython",
    "version": 2
   },
   "file_extension": ".py",
   "mimetype": "text/x-python",
   "name": "python",
   "nbconvert_exporter": "python",
   "pygments_lexer": "ipython2",
   "version": "2.7.8"
  }
 },
 "nbformat": 4,
 "nbformat_minor": 0
}
